{
 "cells": [
  {
   "cell_type": "markdown",
   "metadata": {},
   "source": [
    "Trim Galore + STAR + FeatureCounts"
   ]
  },
  {
   "cell_type": "markdown",
   "metadata": {},
   "source": [
    "# This is a cheat Notebook to run RNAseq analysis server\n",
    "\n",
    "I am using it to have the steps for the RNAseq analaysis in one go and notbook as pipeline, and it can be run it form here but is running really running from the terminal\n"
   ]
  },
  {
   "cell_type": "code",
   "execution_count": 2,
   "metadata": {
    "scrolled": true
   },
   "outputs": [
    {
     "name": "stdout",
     "output_type": "stream",
     "text": [
      "/DATA/home/l.gonzalez/Notebooks\r\n"
     ]
    }
   ],
   "source": [
    "!pwd\n",
    "#!ls"
   ]
  },
  {
   "cell_type": "code",
   "execution_count": 1,
   "metadata": {},
   "outputs": [],
   "source": [
    "import os, sys\n",
    "import glob\n",
    "import logging"
   ]
  },
  {
   "cell_type": "markdown",
   "metadata": {},
   "source": [
    "## Run trim_galore for the trimming part paired-end, check first the QC with fastqc\n",
    "Then remove the adaptors using trim galore (conda)\n",
    "The CLI can be run directly "
   ]
  },
  {
   "cell_type": "code",
   "execution_count": 1,
   "metadata": {
    "scrolled": true
   },
   "outputs": [],
   "source": [
    "#!conda init bash"
   ]
  },
  {
   "cell_type": "code",
   "execution_count": null,
   "metadata": {},
   "outputs": [],
   "source": [
    "#Trimming step go where the fastq raw files are\n",
    "\n",
    "# Original CLI command, to run this you must be in the same folder of the fastq raw files\n",
    "#!parallel --xapply /home/l.gonzalez/programs/TrimGalore-0.6.5/trim_galore --illumina --paired --fastqc -o /DATA/share/pipelines/lgleon/organoids_rawdata/RNAseq/tesnotbook/ /DATA/share/pipelines/lgleon/organoids_rawdata/RNAseq/RAW_Data_20181128/::: *_R1_001.fastq.gz /DATA/share/pipelines/lgleon/organoids_rawdata/RNAseq/RAW_Data_20181128/::: *_R2_001.fastq.gz\n",
    "\n",
    "#Here I tried to put the working directory in a var and give it in the Command, but this way it is not working\n",
    "#!filefolder = /DATA/share/pipelines/lgleon/organoids_rawdata/RNAseq\n",
    "#!parallel --xapply /home/l.gonzalez/programs/TrimGalore-0.6.5/trim_galore --illumina --paired -o ${filefolder}/tesnotbook/ ::: ${filefolder}/RAW_Data_20181128/*_R1_001.fastq.gz ::: ${filefolder}/RAW_Data_20181128/*_R2_001.fastq.gz\n",
    "\n",
    "\n",
    "#this one WORKS !!!!!!\n",
    "#Be aware that the path to the binary file, raw files and output folder are hard coded\n",
    "# Change them when need it !!!!!!!!!!!!\n",
    "Binary = \"/home/l.gonzalez/programs/TrimGalore-0.6.5/trim_galore\"\n",
    "DIR_RAW_SAMPLES = \"/DATA/share/pipelines/lgleon/NGS_protocol/RNA_Seq/rawData/fastq\"\n",
    "DIR_TRIM_Output = \"/DATA/share/pipelines/lgleon/NGS_protocol/RNA_Seq/rawData/fastq/trimmed/\"\n",
    "\n",
    "!parallel --xapply /home/l.gonzalez/programs/TrimGalore-0.6.5/trim_galore \\\n",
    "--illumina --paired -o /DATA/share/pipelines/lgleon/NGS_protocol/RNA_Seq/rawData/fastq/trimmed/ \\\n",
    "::: /DATA/share/pipelines/lgleon/NGS_protocol/RNA_Seq/rawData/fastq/*.R1.fastq.gz ::: /DATA/share/pipelines/lgleon/NGS_protocol/RNA_Seq/rawData/fastq/*.R2.fastq.gz\n"
   ]
  },
  {
   "cell_type": "code",
   "execution_count": 13,
   "metadata": {},
   "outputs": [
    {
     "name": "stdout",
     "output_type": "stream",
     "text": [
      "/DATA/home/l.gonzalez/Notebooks\r\n"
     ]
    }
   ],
   "source": [
    "!pwd"
   ]
  },
  {
   "cell_type": "markdown",
   "metadata": {},
   "source": [
    "### Run the aligner (STAR)\n",
    "In this case is a small script to run STAR with paired-end files\n",
    "Be aware of the path to the directory to change for the new one"
   ]
  },
  {
   "cell_type": "code",
   "execution_count": 25,
   "metadata": {},
   "outputs": [],
   "source": [
    "# Variables to know where are the binary, references, input files and output\n",
    "WORKING_DIR = \"/DATA/share/pipelines/lgleon/organoids_rawdata/RNAseq\"\n",
    "\n",
    "DIR_INPUT_SAMPLES = \"/DATA/share/pipelines/lgleon/organoids_rawdata/RNAseq/trimmed/\"\n",
    "DIR_BAM_OUTPUT = \"/DATA/share/pipelines/lgleon/organoids_rawdata/RNAseq/bam_star/\"\n",
    "\n",
    "STAR_BINARY=\"/home/l.gonzalez/programs/STAR-2.7.5c/bin/Linux_x86_64_static/STAR\"\n",
    "GENE_REFERENCE=\"/DATA/share/pipelines/lgleon/References/Ensembl/STAR_Ref/Homo_sapiens.GRCh38.99.gtf\"\n",
    "STAR_INDEX=\"//DATA/share/pipelines/lgleon/References/Ensembl/newSTAR_idx\"\n",
    "USE_THREADS=16"
   ]
  },
  {
   "cell_type": "code",
   "execution_count": null,
   "metadata": {},
   "outputs": [],
   "source": [
    "# The idea is run directly the small bash script /home/l.gonzalez/Notebooks/run_STAR_paried.sh\n",
    "# what is in this scrript: DO NOT RUN IT, IT WILL NOT WORK LIKE THAT\n",
    "\n",
    "\n",
    "#!bin/bash\n",
    "\n",
    "# Working directory is hard coded, careful\n",
    "# ENVIRONMENT\n",
    "prj=/DATA/share/pipelines/lgleon/organoids_rawdata/RNAseq/\n",
    "outp=/DATA/share/pipelines/lgleon/organoids_rawdata/RNAseq/bam_start_test/\n",
    "\n",
    "\n",
    "# Make arrays named fq1 and fq2\n",
    "fq1=(${prj}/trimmed/*_R1_001_val_1.f*q.gz)\n",
    "fq2=(${prj}/trimmed/*_R2_001_val_2.f*q.gz)\n",
    "\n",
    "#Command\n",
    "for ((i=0;i<\"${#fq1[@]}\";i++)); do\n",
    "  sample=\"${fq1[$i]%%_R*}\"\n",
    "  outprefix=${outp}/\"${sample}\"\n",
    "\n",
    "/home/l.gonzalez/programs/STAR-2.7.5c/bin/Linux_x86_64_static/STAR \\\n",
    "--runMode alignReads \\\n",
    "--genomeDir /DATA/share/pipelines/lgleon/References/Ensembl/newSTAR_idx/ \\\n",
    "--runThreadN 16 \\\n",
    "--sjdbGTFfile /DATA/share/pipelines/lgleon/References/Ensembl/STAR_Ref/Homo_sapiens.GRCh38.99.gtf \\\n",
    "--readFilesIn  \"${fq1[$i]}\" \"${fq2[$i]}\" \\\n",
    "--outSAMtype BAM SortedByCoordinate \\\n",
    "--outFileNamePrefix $outprefix \\\n",
    "--outFilterMismatchNmax 10 \\\n",
    "--outFilterIntronMotifs None \\\n",
    "--chimSegmentMin 1 \\\n",
    "--sjdbScore 2 \\\n",
    "--quantMode GeneCounts \\\n",
    "--readFilesCommand zcat\n",
    "\n",
    "done\n",
    "\n",
    "\n"
   ]
  },
  {
   "cell_type": "markdown",
   "metadata": {},
   "source": [
    "### To modified the file here, just open the sh file and do it, easy peasy \n",
    "We are in /home/l.gonzalez/Notebooks"
   ]
  },
  {
   "cell_type": "code",
   "execution_count": 28,
   "metadata": {},
   "outputs": [
    {
     "name": "stdout",
     "output_type": "stream",
     "text": [
      "Mar 15 14:38:29 ..... started STAR run\n",
      "Mar 15 14:38:29 ..... loading genome\n",
      "Mar 15 14:38:46 ..... processing annotations GTF\n",
      "Mar 15 14:39:00 ..... inserting junctions into the genome indices\n",
      "Mar 15 14:40:31 ..... started mapping\n",
      "^C\n"
     ]
    }
   ],
   "source": [
    "## Alignment with STAR, code is at /home/l.gonzalez/Notebooks/run_STAR_paried.sh\n",
    "## Go to the folder where you wanto to save the results\n",
    "## Check in the code the hard copy of the path to the project and change it \n",
    "\n",
    "!bash /home/l.gonzalez/Notebooks/run_STAR_paried.sh\n"
   ]
  },
  {
   "cell_type": "markdown",
   "metadata": {},
   "source": [
    "### Run featureCounts\n",
    "Again it is just a line in CLI, so go where you have the bam files and run it from there"
   ]
  },
  {
   "cell_type": "code",
   "execution_count": 11,
   "metadata": {},
   "outputs": [
    {
     "name": "stdout",
     "output_type": "stream",
     "text": [
      "\n",
      "Warning: Unknown annotation format: GTF/GFF. GTF format is used.\n",
      "\n",
      "\n",
      "       \u001b[44;37m ========== \u001b[0m\u001b[36m    _____ _    _ ____  _____  ______          _____  \n",
      "       \u001b[44;37m =====      \u001b[0m\u001b[36m   / ____| |  | |  _ \\|  __ \\|  ____|   /\\   |  __ \\ \n",
      "       \u001b[44;37m   =====    \u001b[0m\u001b[36m  | (___ | |  | | |_) | |__) | |__     /  \\  | |  | |\n",
      "       \u001b[44;37m     ====   \u001b[0m\u001b[36m   \\___ \\| |  | |  _ <|  _  /|  __|   / /\\ \\ | |  | |\n",
      "       \u001b[44;37m       ==== \u001b[0m\u001b[36m   ____) | |__| | |_) | | \\ \\| |____ / ____ \\| |__| |\n",
      "       \u001b[44;37m ========== \u001b[0m\u001b[36m  |_____/ \\____/|____/|_|  \\_\\______/_/    \\_\\_____/\u001b[0m\n",
      "\t  v2.0.1\n",
      "\n",
      "//==========================\u001b[36m featureCounts setting \u001b[0m===========================\\\\\n",
      "||  \u001b[0m                                                                          ||\n",
      "||             Input files : \u001b[36m18 BAM files  \u001b[0m \u001b[0m                                  ||\n",
      "||                           \u001b[32mo\u001b[36m 7046-004-303.bam\u001b[0m \u001b[0m                              ||\n",
      "||                           \u001b[32mo\u001b[36m 7046-004-306.bam\u001b[0m \u001b[0m                              ||\n",
      "||                           \u001b[32mo\u001b[36m 7046-004-311.bam\u001b[0m \u001b[0m                              ||\n",
      "||                           \u001b[32mo\u001b[36m 7046-004-314.bam\u001b[0m \u001b[0m                              ||\n",
      "||                           \u001b[32mo\u001b[36m 7046-004-325.bam\u001b[0m \u001b[0m                              ||\n",
      "||                           \u001b[32mo\u001b[36m 7046-004-329.bam\u001b[0m \u001b[0m                              ||\n",
      "||                           \u001b[32mo\u001b[36m 7046-004-331.bam\u001b[0m \u001b[0m                              ||\n",
      "||                           \u001b[32mo\u001b[36m 7046-004-345.bam\u001b[0m \u001b[0m                              ||\n",
      "||                           \u001b[32mo\u001b[36m 7046-004-347.bam\u001b[0m \u001b[0m                              ||\n",
      "||                           \u001b[32mo\u001b[36m 7046-004-349.bam\u001b[0m \u001b[0m                              ||\n",
      "||                           \u001b[32mo\u001b[36m 7046-004-355.bam\u001b[0m \u001b[0m                              ||\n",
      "||                           \u001b[32mo\u001b[36m 7046-004-359.bam\u001b[0m \u001b[0m                              ||\n",
      "||                           \u001b[32mo\u001b[36m 7046-004-363.bam\u001b[0m \u001b[0m                              ||\n",
      "||                           \u001b[32mo\u001b[36m 7046-004-369.bam\u001b[0m \u001b[0m                              ||\n",
      "||                           \u001b[32mo\u001b[36m 7046-004-383.bam\u001b[0m \u001b[0m                              ||\n",
      "||                           \u001b[32mo\u001b[36m 7046-004-385.bam\u001b[0m \u001b[0m                              ||\n",
      "||                           \u001b[32mo\u001b[36m 7046-004-403.bam\u001b[0m \u001b[0m                              ||\n",
      "||                           \u001b[32mo\u001b[36m 7046-004-416.bam\u001b[0m \u001b[0m                              ||\n",
      "||  \u001b[0m                                                                          ||\n",
      "||             Output file : \u001b[36mNGS_normal_genename_hg19.counts\u001b[0m \u001b[0m                 ||\n",
      "||                 Summary : \u001b[36mNGS_normal_genename_hg19.counts.summary\u001b[0m \u001b[0m         ||\n",
      "||              Annotation : \u001b[36mgencode.v19.annotation.gtf (GTF)\u001b[0m \u001b[0m                ||\n",
      "||      Dir for temp files : \u001b[36m/DATA/share/pipelines/lgleon/NGS_protocol/RN\u001b[0m ...\u001b[0m \u001b[0m||\n",
      "||  \u001b[0m                                                                          ||\n",
      "||                 Threads : \u001b[36m16\u001b[0m \u001b[0m                                              ||\n",
      "||                   Level : \u001b[36mmeta-feature level\u001b[0m \u001b[0m                              ||\n",
      "||              Paired-end : \u001b[36mno\u001b[0m \u001b[0m                                              ||\n",
      "||      Multimapping reads : \u001b[36mnot counted\u001b[0m \u001b[0m                                     ||\n",
      "|| Multi-overlapping reads : \u001b[36mcounted\u001b[0m \u001b[0m                                         ||\n",
      "||   Min overlapping bases : \u001b[36m1\u001b[0m \u001b[0m                                               ||\n",
      "||  \u001b[0m                                                                          ||\n",
      "\\\\============================================================================//\n",
      "\n",
      "//=================================\u001b[36m Running \u001b[0m==================================\\\\\n",
      "||  \u001b[0m                                                                          ||\n",
      "|| Load annotation file gencode.v19.annotation.gtf \u001b[0m... \u001b[0m                       ||\n",
      "||    Features : \u001b[36m57820\u001b[0m \u001b[0m                                                       ||\n",
      "||    Meta-features : \u001b[36m55765\u001b[0m \u001b[0m                                                  ||\n",
      "||    Chromosomes/contigs : \u001b[36m25\u001b[0m \u001b[0m                                               ||\n",
      "||  \u001b[0m                                                                          ||\n",
      "|| Process BAM file 7046-004-303.bam... \u001b[0m                                      ||\n",
      "||    WARNING: \u001b[36mPaired-end reads were found.\u001b[0m \u001b[0m                                  ||\n",
      "||    Total alignments : \u001b[36m90128586\u001b[0m \u001b[0m                                            ||\n",
      "||    Successfully assigned alignments : \u001b[36m77869312 (86.4%)\u001b[0m \u001b[0m                    ||\n",
      "||    Running time : \u001b[36m0.15 minutes\u001b[0m \u001b[0m                                            ||\n",
      "||  \u001b[0m                                                                          ||\n",
      "|| Process BAM file 7046-004-306.bam... \u001b[0m                                      ||\n",
      "||    WARNING: \u001b[36mPaired-end reads were found.\u001b[0m \u001b[0m                                  ||\n",
      "||    Total alignments : \u001b[36m136152056\u001b[0m \u001b[0m                                           ||\n",
      "||    Successfully assigned alignments : \u001b[36m118554849 (87.1%)\u001b[0m \u001b[0m                   ||\n",
      "||    Running time : \u001b[36m0.23 minutes\u001b[0m \u001b[0m                                            ||\n",
      "||  \u001b[0m                                                                          ||\n",
      "|| Process BAM file 7046-004-311.bam... \u001b[0m                                      ||\n",
      "||    WARNING: \u001b[36mPaired-end reads were found.\u001b[0m \u001b[0m                                  ||\n",
      "||    Total alignments : \u001b[36m140797096\u001b[0m \u001b[0m                                           ||\n",
      "||    Successfully assigned alignments : \u001b[36m121049478 (86.0%)\u001b[0m \u001b[0m                   ||\n",
      "||    Running time : \u001b[36m0.23 minutes\u001b[0m \u001b[0m                                            ||\n",
      "||  \u001b[0m                                                                          ||\n",
      "|| Process BAM file 7046-004-314.bam... \u001b[0m                                      ||\n",
      "||    WARNING: \u001b[36mPaired-end reads were found.\u001b[0m \u001b[0m                                  ||\n",
      "||    Total alignments : \u001b[36m106201316\u001b[0m \u001b[0m                                           ||\n",
      "||    Successfully assigned alignments : \u001b[36m92447621 (87.0%)\u001b[0m \u001b[0m                    ||\n",
      "||    Running time : \u001b[36m0.18 minutes\u001b[0m \u001b[0m                                            ||\n",
      "||  \u001b[0m                                                                          ||\n",
      "|| Process BAM file 7046-004-325.bam... \u001b[0m                                      ||\n",
      "||    WARNING: \u001b[36mPaired-end reads were found.\u001b[0m \u001b[0m                                  ||\n",
      "||    Total alignments : \u001b[36m113359562\u001b[0m \u001b[0m                                           ||\n",
      "||    Successfully assigned alignments : \u001b[36m98692026 (87.1%)\u001b[0m \u001b[0m                    ||\n",
      "||    Running time : \u001b[36m0.18 minutes\u001b[0m \u001b[0m                                            ||\n",
      "||  \u001b[0m                                                                          ||\n",
      "|| Process BAM file 7046-004-329.bam... \u001b[0m                                      ||\n",
      "||    WARNING: \u001b[36mPaired-end reads were found.\u001b[0m \u001b[0m                                  ||\n",
      "||    Total alignments : \u001b[36m119114505\u001b[0m \u001b[0m                                           ||\n",
      "||    Successfully assigned alignments : \u001b[36m104260567 (87.5%)\u001b[0m \u001b[0m                   ||\n",
      "||    Running time : \u001b[36m0.20 minutes\u001b[0m \u001b[0m                                            ||\n",
      "||  \u001b[0m                                                                          ||\n",
      "|| Process BAM file 7046-004-331.bam... \u001b[0m                                      ||\n",
      "||    WARNING: \u001b[36mPaired-end reads were found.\u001b[0m \u001b[0m                                  ||\n",
      "||    Total alignments : \u001b[36m115944696\u001b[0m \u001b[0m                                           ||\n",
      "||    Successfully assigned alignments : \u001b[36m98308579 (84.8%)\u001b[0m \u001b[0m                    ||\n",
      "||    Running time : \u001b[36m0.19 minutes\u001b[0m \u001b[0m                                            ||\n",
      "||  \u001b[0m                                                                          ||\n",
      "|| Process BAM file 7046-004-345.bam... \u001b[0m                                      ||\n"
     ]
    },
    {
     "name": "stdout",
     "output_type": "stream",
     "text": [
      "||    WARNING: \u001b[36mPaired-end reads were found.\u001b[0m \u001b[0m                                  ||\n",
      "||    Total alignments : \u001b[36m98339023\u001b[0m \u001b[0m                                            ||\n",
      "||    Successfully assigned alignments : \u001b[36m83754198 (85.2%)\u001b[0m \u001b[0m                    ||\n",
      "||    Running time : \u001b[36m0.16 minutes\u001b[0m \u001b[0m                                            ||\n",
      "||  \u001b[0m                                                                          ||\n",
      "|| Process BAM file 7046-004-347.bam... \u001b[0m                                      ||\n",
      "||    WARNING: \u001b[36mPaired-end reads were found.\u001b[0m \u001b[0m                                  ||\n",
      "||    Total alignments : \u001b[36m122070234\u001b[0m \u001b[0m                                           ||\n",
      "||    Successfully assigned alignments : \u001b[36m104273031 (85.4%)\u001b[0m \u001b[0m                   ||\n",
      "||    Running time : \u001b[36m0.20 minutes\u001b[0m \u001b[0m                                            ||\n",
      "||  \u001b[0m                                                                          ||\n",
      "|| Process BAM file 7046-004-349.bam... \u001b[0m                                      ||\n",
      "||    WARNING: \u001b[36mPaired-end reads were found.\u001b[0m \u001b[0m                                  ||\n",
      "||    Total alignments : \u001b[36m120891041\u001b[0m \u001b[0m                                           ||\n",
      "||    Successfully assigned alignments : \u001b[36m103487874 (85.6%)\u001b[0m \u001b[0m                   ||\n",
      "||    Running time : \u001b[36m0.19 minutes\u001b[0m \u001b[0m                                            ||\n",
      "||  \u001b[0m                                                                          ||\n",
      "|| Process BAM file 7046-004-355.bam... \u001b[0m                                      ||\n",
      "||    WARNING: \u001b[36mPaired-end reads were found.\u001b[0m \u001b[0m                                  ||\n",
      "||    Total alignments : \u001b[36m74231687\u001b[0m \u001b[0m                                            ||\n",
      "||    Successfully assigned alignments : \u001b[36m61669317 (83.1%)\u001b[0m \u001b[0m                    ||\n",
      "||    Running time : \u001b[36m0.14 minutes\u001b[0m \u001b[0m                                            ||\n",
      "||  \u001b[0m                                                                          ||\n",
      "|| Process BAM file 7046-004-359.bam... \u001b[0m                                      ||\n",
      "||    WARNING: \u001b[36mPaired-end reads were found.\u001b[0m \u001b[0m                                  ||\n",
      "||    Total alignments : \u001b[36m104005718\u001b[0m \u001b[0m                                           ||\n",
      "||    Successfully assigned alignments : \u001b[36m88193188 (84.8%)\u001b[0m \u001b[0m                    ||\n",
      "||    Running time : \u001b[36m0.18 minutes\u001b[0m \u001b[0m                                            ||\n",
      "||  \u001b[0m                                                                          ||\n",
      "|| Process BAM file 7046-004-363.bam... \u001b[0m                                      ||\n",
      "||    WARNING: \u001b[36mPaired-end reads were found.\u001b[0m \u001b[0m                                  ||\n",
      "||    Total alignments : \u001b[36m57547925\u001b[0m \u001b[0m                                            ||\n",
      "||    Successfully assigned alignments : \u001b[36m49604554 (86.2%)\u001b[0m \u001b[0m                    ||\n",
      "||    Running time : \u001b[36m0.10 minutes\u001b[0m \u001b[0m                                            ||\n",
      "||  \u001b[0m                                                                          ||\n",
      "|| Process BAM file 7046-004-369.bam... \u001b[0m                                      ||\n",
      "||    WARNING: \u001b[36mPaired-end reads were found.\u001b[0m \u001b[0m                                  ||\n",
      "||    Total alignments : \u001b[36m115210049\u001b[0m \u001b[0m                                           ||\n",
      "||    Successfully assigned alignments : \u001b[36m95327390 (82.7%)\u001b[0m \u001b[0m                    ||\n",
      "||    Running time : \u001b[36m0.19 minutes\u001b[0m \u001b[0m                                            ||\n",
      "||  \u001b[0m                                                                          ||\n",
      "|| Process BAM file 7046-004-383.bam... \u001b[0m                                      ||\n",
      "||    WARNING: \u001b[36mPaired-end reads were found.\u001b[0m \u001b[0m                                  ||\n",
      "||    Total alignments : \u001b[36m109107707\u001b[0m \u001b[0m                                           ||\n",
      "||    Successfully assigned alignments : \u001b[36m93176887 (85.4%)\u001b[0m \u001b[0m                    ||\n",
      "||    Running time : \u001b[36m0.20 minutes\u001b[0m \u001b[0m                                            ||\n",
      "||  \u001b[0m                                                                          ||\n",
      "|| Process BAM file 7046-004-385.bam... \u001b[0m                                      ||\n",
      "||    WARNING: \u001b[36mPaired-end reads were found.\u001b[0m \u001b[0m                                  ||\n",
      "||    Total alignments : \u001b[36m116623708\u001b[0m \u001b[0m                                           ||\n",
      "||    Successfully assigned alignments : \u001b[36m99130149 (85.0%)\u001b[0m \u001b[0m                    ||\n",
      "||    Running time : \u001b[36m0.19 minutes\u001b[0m \u001b[0m                                            ||\n",
      "||  \u001b[0m                                                                          ||\n",
      "|| Process BAM file 7046-004-403.bam... \u001b[0m                                      ||\n",
      "||    WARNING: \u001b[36mPaired-end reads were found.\u001b[0m \u001b[0m                                  ||\n",
      "||    Total alignments : \u001b[36m110500355\u001b[0m \u001b[0m                                           ||\n",
      "||    Successfully assigned alignments : \u001b[36m93122105 (84.3%)\u001b[0m \u001b[0m                    ||\n",
      "||    Running time : \u001b[36m0.18 minutes\u001b[0m \u001b[0m                                            ||\n",
      "||  \u001b[0m                                                                          ||\n",
      "|| Process BAM file 7046-004-416.bam... \u001b[0m                                      ||\n",
      "||    WARNING: \u001b[36mPaired-end reads were found.\u001b[0m \u001b[0m                                  ||\n",
      "||    Total alignments : \u001b[36m78567952\u001b[0m \u001b[0m                                            ||\n",
      "||    Successfully assigned alignments : \u001b[36m67070309 (85.4%)\u001b[0m \u001b[0m                    ||\n",
      "||    Running time : \u001b[36m0.13 minutes\u001b[0m \u001b[0m                                            ||\n",
      "||  \u001b[0m                                                                          ||\n",
      "|| Write the final count table. \u001b[0m                                              ||\n",
      "|| Write the read assignment summary. \u001b[0m                                        ||\n",
      "||  \u001b[0m                                                                          ||\n",
      "|| Summary of counting results can be found in file \"/DATA/share/pipelines/l \u001b[0m ||\n",
      "|| gleon/NGS_protocol/RNA_Seq/Processed_Data/counts/NGS_normal_genename_hg19 \u001b[0m ||\n",
      "|| .counts.summary\" \u001b[0m                                                          ||\n",
      "||  \u001b[0m                                                                          ||\n",
      "\\\\============================================================================//\n",
      "\n"
     ]
    }
   ],
   "source": [
    "## To run featureCounts is also a line that we can call frem here\n",
    "## go to the folder where all the bam files are store after algnment \n",
    "## Be aware:\n",
    "Binary = \"/home/l.gonzalez/programs/subread-2.0.1-source/bin/featureCounts\"\n",
    "\n",
    "Output = \"//DATA/share/pipelines/lgleon/NGS_protocol/RNA_Seq/Processed_Data/counts/NGS_adenomagenename_hg19.counts\"\n",
    "Input = \"/DATA/share/pipelines/lgleon/NGS_protocol/RNA_Seq/Processed_Data/complete/Bam_colorectal_adenoma/*bam\"\n",
    "\n",
    "GFT_Ref = \"/DATA/share/pipelines/lgleon/References/gencoderef/hg19/gencode.v19.annotation.gtf\"\n",
    "\n",
    "\n",
    "## run\n",
    "#!/home/l.gonzalez/programs/subread-2.0.1-source/bin/featureCounts \\\n",
    "#-T 16 -t exon -g gene_id -O -a \\\n",
    "#/DATA/share/pipelines/lgleon/References/Ensembl/STAR_Ref/Homo_sapiens.GRCh38.99.gtf -F GTF/GFF \\\n",
    "#-o /DATA/share/pipelines/lgleon/organoids_rawdata/RNAseq/counts/fcounts_hg38.counts \\\n",
    "#/DATA/share/pipelines/lgleon/organoids_rawdata/RNAseq/bam_star/*bam\n",
    "\n",
    "!/home/l.gonzalez/programs/subread-2.0.1-source/bin/featureCounts \\\n",
    "-T 16 -t gene -g gene_name -O -a \\\n",
    "/DATA/share/pipelines/lgleon/References/gencoderef/hg19/gencode.v19.annotation.gtf -F GTF/GFF \\\n",
    "-o /DATA/share/pipelines/lgleon/NGS_protocol/RNA_Seq/Processed_Data/counts/NGS_normal_genename_hg19.counts \\\n",
    "/DATA/share/pipelines/lgleon/NGS_protocol/RNA_Seq/Processed_Data/complete/Bam_normal_adjcentColon/*bam\n",
    "\n",
    "#!/home/l.gonzalez/programs/subread-2.0.1-source/bin/featureCounts \\\n",
    "#-T 16 -t exon -g exon_id -O \\\n",
    "#-a /DATA/share/pipelines/lgleon/References/Ensembl/STAR_Ref/Homo_sapiens.GRCh38.99.gtf -F GTF/GFF \\\n",
    "#-o /DATA/share/pipelines/lgleon/organoids_rawdata/RNAseq/counts/exon_hg38.counts \\\n",
    "#/DATA/share/pipelines/lgleon/organoids_rawdata/RNAseq/bam_star/*bam\n",
    "\n",
    "\n",
    "#Atrivute that can be use:\n",
    "#An example of attributes included in your GTF annotation is:\n",
    "#'gene_id \"ENSG00000223972\"; \n",
    "#gene_version \"5\"; \n",
    "#transcript_id \"ENST00000456328\"; \n",
    "#transcript_version \"2\"; \n",
    "#exon_number \"1\"; \n",
    "#gene_name \"DDX11L1\"; \n",
    "#gene_source \"havana\"; \n",
    "#gene_biotype \"transcribed_unprocessed_pseudogene\"; \n",
    "#transcript_name \"DDX11L1-202\"; \n",
    "#transcript_source \"havana\"; \n",
    "#transcript_biotype \"processed_transcript\"; \n",
    "#exon_id \"ENSE00002234944\"; \n",
    "#exon_version \"1\"; \n",
    "#tag \"basic\"; \n",
    "#transcript_support_level \"1\";' \n"
   ]
  },
  {
   "cell_type": "markdown",
   "metadata": {},
   "source": [
    "# Previous Code, do not use"
   ]
  },
  {
   "cell_type": "code",
   "execution_count": null,
   "metadata": {},
   "outputs": [],
   "source": [
    "# add parent directory to library path so that we can load the molmedtk library\n",
    "import os, sys\n",
    "import glob\n",
    "import logging\n",
    "import subprocess\n",
    "sys.path.insert(0, os.path.abspath('..')) # add parent directory to library path, to load the molmedtk library\n",
    "\n",
    "#this is a filter to get in the log file anything with more level that debug\n",
    "logging.basicConfig(filename=\"log-me.log\", level= logging.DEBUG)\n",
    "\n",
    "def ensure_dir(file_path):\n",
    "    directory = os.path.dirname(file_path)\n",
    "    if not os.path.exists(directory):\n",
    "        os.makedirs(directory)\n",
    "\n",
    "def extract_filename(fname):\n",
    "    fn = os.path.basename( fname )\n",
    "    pre, ext = os.path.splitext(fn)\n",
    "    return pre"
   ]
  },
  {
   "cell_type": "code",
   "execution_count": null,
   "metadata": {},
   "outputs": [],
   "source": [
    "#for fname in glob.glob(DIR_INPUT_SAMPLES + \"/*.f*q.gz\"):\n",
    "#    print(fname)"
   ]
  }
 ],
 "metadata": {
  "kernelspec": {
   "display_name": "Python 3",
   "language": "python",
   "name": "python3"
  },
  "language_info": {
   "codemirror_mode": {
    "name": "ipython",
    "version": 3
   },
   "file_extension": ".py",
   "mimetype": "text/x-python",
   "name": "python",
   "nbconvert_exporter": "python",
   "pygments_lexer": "ipython3",
   "version": "3.8.5"
  }
 },
 "nbformat": 4,
 "nbformat_minor": 4
}
