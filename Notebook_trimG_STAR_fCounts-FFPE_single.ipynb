{
 "cells": [
  {
   "cell_type": "markdown",
   "metadata": {},
   "source": [
    "# This is a Notebook to run RNAseq analysis server\n",
    "# For FFPE or frozen samples \n",
    "\n",
    "\n",
    "This is a warp up of the few steps for the pre-procesing in the RNAseq analaysis, the notebook include:\n",
    "- fastqc\n",
    "- trimming, trim-galore\n",
    "- Alignment, STAR\n",
    "- Annotation counts, featureCounts\n",
    "- multiqc, QC of the process\n",
    "\n"
   ]
  },
  {
   "cell_type": "code",
   "execution_count": 2,
   "metadata": {
    "scrolled": true
   },
   "outputs": [
    {
     "name": "stdout",
     "output_type": "stream",
     "text": [
      "/DATA/home/l.gonzalez/Notebooks\r\n"
     ]
    }
   ],
   "source": [
    "#this is in case you forget where you are and what is in it\n",
    "!pwd\n",
    "#!ls"
   ]
  },
  {
   "cell_type": "code",
   "execution_count": 1,
   "metadata": {},
   "outputs": [],
   "source": [
    "import os, sys\n",
    "import glob\n",
    "import logging"
   ]
  },
  {
   "cell_type": "markdown",
   "metadata": {},
   "source": [
    "### Before starting the analysis we will check the QC of the fastq files usign fastqc\n",
    "To do that, please go to the cell below and change the path to the folder where the fastq files are, then run it"
   ]
  },
  {
   "cell_type": "code",
   "execution_count": null,
   "metadata": {},
   "outputs": [],
   "source": [
    "!fastqc /DATA/share/pipelines/lgleon/test/testCode_steps_Nousefuldata/testdata/fastq/*fastq.gz"
   ]
  },
  {
   "cell_type": "markdown",
   "metadata": {},
   "source": [
    "## Run trim_galore for the trimming part paired-end\n",
    "Then remove the adaptors using trim galore (conda)\n",
    "The CLI can be run directly "
   ]
  },
  {
   "cell_type": "code",
   "execution_count": 1,
   "metadata": {
    "scrolled": true
   },
   "outputs": [],
   "source": [
    "#!conda init bash"
   ]
  },
  {
   "cell_type": "code",
   "execution_count": null,
   "metadata": {},
   "outputs": [],
   "source": [
    "#Trimming step go where the fastq raw files are\n",
    "\n",
    "#Binary = \"/path/TrimGalore-0.6.5/trim_galore\"\n",
    "#Be aware that the path to the raw files (prj) is hard coded\n",
    "# Change it  !!!!!!!!!!!!\n",
    "#prj is hardcode, need to be change with any new analysis\n",
    "\n",
    "#Script, DO NOT RUN !!!!!!!!!!!!!!!!!\n",
    "#!bin/bash\n",
    "\n",
    "#############################################################################\n",
    "##############################################################################\n",
    "# SINGLE-END part\n",
    "##############################################################################\n",
    "##############################################################################\n",
    "\n",
    "##careful with fastq.gz OR fq.gz   can give problems!\n",
    "\n",
    "##Hardcode fastq folder change when need it\n",
    "#    prj=/path/C5_RNAseq_FFPE/fastq_files/\n",
    "\n",
    "#for i in ${prj}/*R1*.f*q.gz \n",
    "\n",
    "#do \n",
    "#    name=$(basename ${i} _R1_001.fastq.gz)\n",
    "\n",
    "#\techo ${name}\n",
    "#\techo ${name}_R1_001.fastq.gz\n",
    "#\techo ${name}_R2_001.fastq.gz\n",
    "#\techo ${prj}trimmed/\n",
    "\n",
    "\n",
    "#    /path/programs/TrimGalore-0.6.5/trim_galore -q 35 -o ${prj}trimmed/ ${name}_R1_001.fastq.gz\n",
    "    \n",
    "\n",
    "#done\n",
    "\n",
    "#############################################################################\n",
    "##############################################################################\n",
    "# PAIRED-END part\n",
    "##############################################################################\n",
    "##############################################################################\n",
    "#to work with this part remove the # in the single ones, doubles are explanations\n",
    "\n",
    "##careful with fastq.gz OR fq.gz   can give problems!\n",
    "\n",
    "##Hardcode fastq folder change when need it\n",
    "        prj=/path/organoids_rawdata/RNAseq/fastq_normals\n",
    "\n",
    "for i in ${prj}/*R1*.f*q \n",
    "\n",
    "do \n",
    "    #name=$(basename ${i} _R1_001.fastq.gz)\n",
    "    name=$(basename ${i/%_R1_001.f*q})\n",
    "\n",
    "\techo ${name}\n",
    "    #echo ${name/%_R1_001.f*q}       #filenamestem=${file/%.f*q.gz/}\n",
    "\techo ${name}_R1_001.fastq  #option namefq1=${name}_R1_001.fastq.gz, then in the cli use ${namefq1}\n",
    "\techo ${name}_R2_001.fastq  #option namefq2=${name}_R2_001.fastq.gz\n",
    "    echo ${prj}/${name}_R1_001.fastq\n",
    "    echo ${prj}/trimmNormals/          #option pathoutput=${prj}/trimmed/\n",
    "\n",
    "\n",
    "\n",
    "    /path/programs/TrimGalore-0.6.5/trim_galore -q 35 --paired -o ${prj}/trimmNormals/ ${prj}/${name}_R1_001.fastq ${prj}/${name}_R2_001.fastq #> logtrim.txt &\n",
    "    \n",
    "    \n",
    "    #### If you run this from Notebook, to the other folder then ${name} is not enough, that is only the name os the files\n",
    "    ####you need to put ${prj}/${name}_R1_001.fastq.gz to work ??\n",
    "    \n",
    "\n",
    "\n",
    "done\n"
   ]
  },
  {
   "cell_type": "code",
   "execution_count": 2,
   "metadata": {
    "scrolled": true
   },
   "outputs": [],
   "source": [
    "#once you change the prj folder, run this cell\n",
    "#!bash /<path>/testrun_trimgalorePaired_notebook.sh\n",
    "\n",
    "!bash /path/Notebooks/testrun_trimgalorePaired_notebook.sh\n"
   ]
  },
  {
   "cell_type": "markdown",
   "metadata": {},
   "source": [
    "### Run the aligner (STAR)\n",
    "In this case is a small script to run STAR with paired-end files\n",
    "Be aware of the path to the directory to change for the new one"
   ]
  },
  {
   "cell_type": "code",
   "execution_count": 25,
   "metadata": {},
   "outputs": [],
   "source": [
    "# Variables to know where are the binary, references DO NOT CHANGE them\n",
    "STAR_BINARY=\"/path/programs/STAR-2.7.5c/bin/Linux_x86_64_static/STAR\"\n",
    "GENE_REFERENCE=\"/path/References/Ensembl/STAR_Ref/Homo_sapiens.GRCh38.99.gtf\"\n",
    "STAR_INDEX=\"/path/References/Ensembl/newSTAR_idx\"\n",
    "USE_THREADS=16\n",
    "\n",
    "#those ones you need to change with each analysis (run), here and in the script before run it\n",
    "WORKING_DIR = \"/path/C5_RNAseq_FFPE/\"\n",
    "DIR_INPUT_SAMPLES = \"/path/C5_RNAseq_FFPE/fastq_files\"\n",
    "DIR_BAM_OUTPUT = \"/path/C5_RNAseq_FFPE/bam_test_notrimm/\"\n"
   ]
  },
  {
   "cell_type": "code",
   "execution_count": null,
   "metadata": {},
   "outputs": [],
   "source": [
    "# The idea is run directly the small bash script /path/Notebooks/run_newpairedSTAR.sh\n",
    "# OR  /home/l.gonzalez/Notebooks/run_STAR_singleORpaired.sh\n",
    "# what is in this scrript: DO NOT RUN IT, IT WILL NOT WORK LIKE THAT\n",
    "\n",
    "#script:\n",
    "\n",
    "#!bin/bash\n",
    "\n",
    "#############################################################################\n",
    "##############################################################################\n",
    "# SINGLE-END part\n",
    "##############################################################################\n",
    "##############################################################################\n",
    "\n",
    "\n",
    "#where are the data that we are analyzing, this part is hard code need to be change each time\n",
    "prj=/path/organoids_rawdata/RNAseq/test-code\n",
    "\n",
    "#loop to interact over all the fastq files in the folder, take one file\n",
    "#check the nale-tail of the files and adapt if need it\n",
    "for i in ${prj}/*R1*.f*q.gz \n",
    "\n",
    "do \n",
    "    name=$(basename ${i} _R1_001.fastq.gz) \n",
    "\n",
    "\techo ${name}\n",
    "\techo ${name}_R1_001.fastq.gz\n",
    "#\techo ${name}_R2_001.fastq.gz\n",
    "\techo ${prj}/output/\n",
    "\n",
    "\n",
    "    /home/l.gonzalez/programs/STAR-2.7.5c/bin/Linux_x86_64_static/STAR \\\n",
    "    --runMode alignReads \\\n",
    "    --genomeDir /path/lgleon/References/Ensembl/newSTAR_idx/ \\\n",
    "    --runThreadN 16 \\\n",
    "    --sjdbGTFfile /path/References/Ensembl/STAR_Ref/Homo_sapiens.GRCh38.99.gtf \\\n",
    "    --readFilesIn  ${name}_R1_001.fastq.gz \\\n",
    "    --outSAMtype BAM SortedByCoordinate \\\n",
    "    --outFileNamePrefix ${prj}/output/ \\\n",
    "    --outFilterMismatchNmax 10 \\\n",
    "    --outFilterIntronMotifs None \\\n",
    "    --chimSegmentMin 1 \\\n",
    "    --sjdbScore 2 \\\n",
    "    --quantMode GeneCounts \\\n",
    "    --readFilesCommand zcat\n",
    "\n",
    "\n",
    "done\n",
    "\n",
    "# you can convert this one in parired end, \n",
    "# simple removing the # from the R2 and adding the second fastq in the input"
   ]
  },
  {
   "cell_type": "markdown",
   "metadata": {},
   "source": [
    "### To modified the file here, just open the sh file and do it, easy peasy \n",
    "We are in /home/l.gonzalez/Notebooks"
   ]
  },
  {
   "cell_type": "code",
   "execution_count": 3,
   "metadata": {},
   "outputs": [],
   "source": [
    "## Alignment with STAR\n",
    "## Go to the folder where you wanto to save the results\n",
    "## Once you changed the proj folder, run this cell\n",
    "\n",
    "#!bash /home/l.gonzalez/Notebooks/run_newpairedSTAR.sh \n",
    "#!bash /home/l.gonzalez/Notebooks/run_STAR_singleORpaired.sh\n",
    "\n",
    "#testing code \n",
    "#!bash /DATA/share/pipelines/lgleon/organoids_rawdata/RNAseq/test-code/test_newpairedSTAR.sh\n",
    "!bash /path/Notebooks/run_newpairedSTAR.sh\n"
   ]
  },
  {
   "cell_type": "markdown",
   "metadata": {},
   "source": [
    "### Run featureCounts\n",
    "Again it is just a line in CLI, so go where you have the bam files and run it from there"
   ]
  },
  {
   "cell_type": "code",
   "execution_count": 4,
   "metadata": {},
   "outputs": [],
   "source": [
    "## To run featureCounts is also a line that we can call frem here\n",
    "## go to the folder where all the bam files are store after algnment \n",
    "## Be aware:\n",
    "Binary = \"/path/programs/subread-2.0.1-source/bin/featureCounts\"\n",
    "GFT_Ref = \"/path/References/gencoderef/hg19/gencode.v19.annotation.gtf\"\n",
    "\n",
    "## run\n",
    "!/path/programs/subread-2.0.1-source/bin/featureCounts \\\n",
    "-T 16 -t gene -g gene_name -O -s 0 -M -Q 10 -a \\\n",
    "/path/References/Ensembl/STAR_Ref/Homo_sapiens.GRCh38.99.gtf -F GTF/GFF \\\n",
    "-o /path/organoids_rawdata/RNAseq/counts/fcounts_hg38_genename.counts \\\n",
    "/path/organoids_rawdata/RNAseq/bam_star/*bam\n",
    "\n",
    "#!/path/programs/subread-2.0.1-source/bin/featureCounts \\\n",
    "#-T 16 -t exon -g exon_id -O -s 0 -M -Q 10 -a \\\n",
    "#/path/References/Ensembl/STAR_Ref/Homo_sapiens.GRCh38.99.gtf -F GTF/GFF \\\n",
    "#-o /path/NGS_protocol/RNA_Seq/Processed_Data/counts/NGS_normal_exon.counts \\\n",
    "#/path/NGS_protocol/RNA_Seq/Processed_Data/complete/Bam_normal_adjcentColon/*bam\n",
    "\n",
    "#Feature type(-t), 3rd column GTF file\n",
    "#CDS\n",
    "#Selenocysteine\n",
    "#exon\n",
    "#five_prime_utr\n",
    "#gene\n",
    "#start_codon\n",
    "#stop_codon\n",
    "#three_prime_utr\n",
    "#transcript\n",
    "\n",
    "#Atrivute that can be use (-g):\n",
    "#An example of attributes included in your GTF annotation is:\n",
    "#'gene_id \"ENSG00000223972\"; \n",
    "#gene_version \"5\"; \n",
    "#transcript_id \"ENST00000456328\"; \n",
    "#transcript_version \"2\"; \n",
    "#exon_number \"1\"; \n",
    "#gene_name \"DDX11L1\"; \n",
    "#gene_source \"havana\"; \n",
    "#gene_biotype \"transcribed_unprocessed_pseudogene\"; \n",
    "#transcript_name \"DDX11L1-202\"; \n",
    "#transcript_source \"havana\"; \n",
    "#transcript_biotype \"processed_transcript\"; \n",
    "#exon_id \"ENSE00002234944\"; \n",
    "#exon_version \"1\"; \n",
    "#tag \"basic\"; \n",
    "#transcript_support_level \"1\";' \n"
   ]
  },
  {
   "cell_type": "markdown",
   "metadata": {},
   "source": [
    "### After the analysis we will check the QC of the steps that we ran\n",
    "To do that, please go to the cell below and change the path to the folders where the fastqc files are, also the bam/bai files and multiqc will create a html with all the files"
   ]
  },
  {
   "cell_type": "code",
   "execution_count": null,
   "metadata": {},
   "outputs": [],
   "source": [
    "!multiqc /path/test/testCode_steps_Nousefuldata/testdata/fastq/"
   ]
  },
  {
   "cell_type": "code",
   "execution_count": null,
   "metadata": {},
   "outputs": [],
   "source": [
    "#for fname in glob.glob(DIR_INPUT_SAMPLES + \"/*.f*q.gz\"):\n",
    "#    print(fname)"
   ]
  }
 ],
 "metadata": {
  "kernelspec": {
   "display_name": "Python 3",
   "language": "python",
   "name": "python3"
  },
  "language_info": {
   "codemirror_mode": {
    "name": "ipython",
    "version": 3
   },
   "file_extension": ".py",
   "mimetype": "text/x-python",
   "name": "python",
   "nbconvert_exporter": "python",
   "pygments_lexer": "ipython3",
   "version": "3.8.5"
  }
 },
 "nbformat": 4,
 "nbformat_minor": 4
}
